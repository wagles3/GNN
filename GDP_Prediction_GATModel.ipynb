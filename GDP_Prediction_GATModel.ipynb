{
  "cells": [
    {
      "cell_type": "code",
      "execution_count": 4,
      "metadata": {
        "colab": {
          "base_uri": "https://localhost:8080/"
        },
        "id": "axB3xl-IzU-P",
        "outputId": "bae9945e-06ce-4ea2-8e9d-14a1912f0c10"
      },
      "outputs": [
        {
          "output_type": "stream",
          "name": "stdout",
          "text": [
            "Looking in indexes: https://pypi.org/simple, https://us-python.pkg.dev/colab-wheels/public/simple/\n",
            "Looking in links: https://data.pyg.org/whl/torch-1.10.0+cu111.html\n",
            "Requirement already satisfied: torch-scatter in /usr/local/lib/python3.9/dist-packages (2.1.0)\n",
            "Looking in indexes: https://pypi.org/simple, https://us-python.pkg.dev/colab-wheels/public/simple/\n",
            "Looking in links: https://data.pyg.org/whl/torch-1.10.0+cu111.html\n",
            "Requirement already satisfied: torch-sparse in /usr/local/lib/python3.9/dist-packages (0.6.16)\n",
            "Requirement already satisfied: scipy in /usr/local/lib/python3.9/dist-packages (from torch-sparse) (1.10.1)\n",
            "Requirement already satisfied: numpy<1.27.0,>=1.19.5 in /usr/local/lib/python3.9/dist-packages (from scipy->torch-sparse) (1.22.4)\n",
            "Looking in indexes: https://pypi.org/simple, https://us-python.pkg.dev/colab-wheels/public/simple/\n",
            "Requirement already satisfied: torch-geometric in /usr/local/lib/python3.9/dist-packages (2.2.0)\n",
            "Requirement already satisfied: scikit-learn in /usr/local/lib/python3.9/dist-packages (from torch-geometric) (1.2.1)\n",
            "Requirement already satisfied: psutil>=5.8.0 in /usr/local/lib/python3.9/dist-packages (from torch-geometric) (5.9.4)\n",
            "Requirement already satisfied: tqdm in /usr/local/lib/python3.9/dist-packages (from torch-geometric) (4.65.0)\n",
            "Requirement already satisfied: scipy in /usr/local/lib/python3.9/dist-packages (from torch-geometric) (1.10.1)\n",
            "Requirement already satisfied: requests in /usr/local/lib/python3.9/dist-packages (from torch-geometric) (2.25.1)\n",
            "Requirement already satisfied: numpy in /usr/local/lib/python3.9/dist-packages (from torch-geometric) (1.22.4)\n",
            "Requirement already satisfied: jinja2 in /usr/local/lib/python3.9/dist-packages (from torch-geometric) (3.1.2)\n",
            "Requirement already satisfied: pyparsing in /usr/local/lib/python3.9/dist-packages (from torch-geometric) (3.0.9)\n",
            "Requirement already satisfied: MarkupSafe>=2.0 in /usr/local/lib/python3.9/dist-packages (from jinja2->torch-geometric) (2.1.2)\n",
            "Requirement already satisfied: certifi>=2017.4.17 in /usr/local/lib/python3.9/dist-packages (from requests->torch-geometric) (2022.12.7)\n",
            "Requirement already satisfied: urllib3<1.27,>=1.21.1 in /usr/local/lib/python3.9/dist-packages (from requests->torch-geometric) (1.26.14)\n",
            "Requirement already satisfied: chardet<5,>=3.0.2 in /usr/local/lib/python3.9/dist-packages (from requests->torch-geometric) (4.0.0)\n",
            "Requirement already satisfied: idna<3,>=2.5 in /usr/local/lib/python3.9/dist-packages (from requests->torch-geometric) (2.10)\n",
            "Requirement already satisfied: threadpoolctl>=2.0.0 in /usr/local/lib/python3.9/dist-packages (from scikit-learn->torch-geometric) (3.1.0)\n",
            "Requirement already satisfied: joblib>=1.1.1 in /usr/local/lib/python3.9/dist-packages (from scikit-learn->torch-geometric) (1.2.0)\n"
          ]
        }
      ],
      "source": [
        "!pip install torch-scatter -f https://data.pyg.org/whl/torch-1.10.0+cu111.html\n",
        "!pip install torch-sparse -f https://data.pyg.org/whl/torch-1.10.0+cu111.html\n",
        "!pip install torch-geometric"
      ]
    },
    {
      "cell_type": "code",
      "execution_count": null,
      "metadata": {
        "id": "Jer3Mte0h1e7",
        "colab": {
          "base_uri": "https://localhost:8080/",
          "height": 373
        },
        "outputId": "b3820b4c-1f06-41cc-cb62-4988c825a423"
      },
      "outputs": [
        {
          "output_type": "error",
          "ename": "ModuleNotFoundError",
          "evalue": "ignored",
          "traceback": [
            "\u001b[0;31m---------------------------------------------------------------------------\u001b[0m",
            "\u001b[0;31mModuleNotFoundError\u001b[0m                       Traceback (most recent call last)",
            "\u001b[0;32m<ipython-input-1-9906119379ec>\u001b[0m in \u001b[0;36m<module>\u001b[0;34m\u001b[0m\n\u001b[1;32m      4\u001b[0m \u001b[0;32mimport\u001b[0m \u001b[0mtorch\u001b[0m\u001b[0;34m.\u001b[0m\u001b[0mnn\u001b[0m\u001b[0;34m.\u001b[0m\u001b[0mfunctional\u001b[0m \u001b[0;32mas\u001b[0m \u001b[0mF\u001b[0m\u001b[0;34m\u001b[0m\u001b[0;34m\u001b[0m\u001b[0m\n\u001b[1;32m      5\u001b[0m \u001b[0;32mimport\u001b[0m \u001b[0mnumpy\u001b[0m \u001b[0;32mas\u001b[0m \u001b[0mnp\u001b[0m\u001b[0;34m\u001b[0m\u001b[0;34m\u001b[0m\u001b[0m\n\u001b[0;32m----> 6\u001b[0;31m \u001b[0;32mfrom\u001b[0m \u001b[0mtorch_geometric\u001b[0m\u001b[0;34m.\u001b[0m\u001b[0mdata\u001b[0m \u001b[0;32mimport\u001b[0m \u001b[0mData\u001b[0m\u001b[0;34m\u001b[0m\u001b[0;34m\u001b[0m\u001b[0m\n\u001b[0m\u001b[1;32m      7\u001b[0m \u001b[0;32mimport\u001b[0m \u001b[0mtorch\u001b[0m\u001b[0;34m.\u001b[0m\u001b[0mnn\u001b[0m \u001b[0;32mas\u001b[0m \u001b[0mnn\u001b[0m\u001b[0;34m\u001b[0m\u001b[0;34m\u001b[0m\u001b[0m\n\u001b[1;32m      8\u001b[0m \u001b[0;32mfrom\u001b[0m \u001b[0mtorch_geometric\u001b[0m\u001b[0;34m.\u001b[0m\u001b[0mnn\u001b[0m \u001b[0;32mimport\u001b[0m \u001b[0mGCNConv\u001b[0m\u001b[0;34m,\u001b[0m \u001b[0mGATConv\u001b[0m\u001b[0;34m\u001b[0m\u001b[0;34m\u001b[0m\u001b[0m\n",
            "\u001b[0;31mModuleNotFoundError\u001b[0m: No module named 'torch_geometric'",
            "",
            "\u001b[0;31m---------------------------------------------------------------------------\u001b[0;32m\nNOTE: If your import is failing due to a missing package, you can\nmanually install dependencies using either !pip or !apt.\n\nTo view examples of installing some common dependencies, click the\n\"Open Examples\" button below.\n\u001b[0;31m---------------------------------------------------------------------------\u001b[0m\n"
          ],
          "errorDetails": {
            "actions": [
              {
                "action": "open_url",
                "actionText": "Open Examples",
                "url": "/notebooks/snippets/importing_libraries.ipynb"
              }
            ]
          }
        }
      ],
      "source": [
        "\n",
        "import torch\n",
        "import pandas as pd\n",
        "import random\n",
        "import torch.nn.functional as F\n",
        "import numpy as np\n",
        "from torch_geometric.data import Data\n",
        "import torch.nn as nn\n",
        "from torch_geometric.nn import GCNConv, GATConv\n",
        "from torch_geometric.loader import DataLoader\n",
        "import random\n",
        "import torch\n",
        "import torch.nn.functional as F\n",
        "#from torch_geometric.datasets import Planetoid\n",
        "from torch_geometric.data import DataLoader\n",
        "from torch_geometric.nn import EdgeConv\n",
        "from torch_geometric.utils import degree\n",
        "from torch_geometric.nn import MessagePassing\n"
      ]
    },
    {
      "cell_type": "code",
      "execution_count": null,
      "metadata": {
        "id": "ublh98SAcHVT"
      },
      "outputs": [],
      "source": []
    },
    {
      "cell_type": "code",
      "execution_count": 3,
      "metadata": {
        "id": "Be4ivXdhoKpH"
      },
      "outputs": [],
      "source": []
    },
    {
      "cell_type": "code",
      "execution_count": null,
      "metadata": {
        "id": "sbfbwkoYuu12"
      },
      "outputs": [],
      "source": [
        "FIRST_YEAR = 1995\n",
        "LAST_YEAR = 2021\n",
        "NUM_TRAIN = 16\n",
        "NUM_VAL = 3\n",
        "NUM_TEST = 6\n",
        "NUM_EDGE_FEATURES = 5\n",
        "EDGE_FEATURES = ['f'+str(i) for i in range(NUM_EDGE_FEATURES)]\n",
        "prefix = 'https://raw.githubusercontent.com/wagles3/GNN/main/data'    "
      ]
    },
    {
      "cell_type": "code",
      "execution_count": null,
      "metadata": {
        "id": "1fVM2iPDoLQg"
      },
      "outputs": [],
      "source": [
        "\n",
        "def create_data(year):\n",
        "    '''\n",
        "    For given year, pull in node features, edge features, and edge index and\n",
        "    save in a PyG Data object.\n",
        "    '''\n",
        "    assert(year in range(1995, 2021 + 1))\n",
        "    edges = pd.read_csv(f'{prefix}/connection_{year}.csv')\n",
        "    #edges = pd.read_csv(f'{prefix}/output/X_EDGE_{year}.csv')\n",
        "    \n",
        "    # generate map from iso_code to ids of form [0, ..., num_unique_iso_codes - 1]\n",
        "    iso_codes = set(edges['i'])\n",
        "    iso_codes = iso_codes.union(set(edges['j']))\n",
        "    iso_code_to_id = {code : i for (i, code) in enumerate(iso_codes)}\n",
        "    \n",
        "    # load in edge index\n",
        "    edges['i_id'] = edges['i'].map(iso_code_to_id)\n",
        "    edges['j_id'] = edges['j'].map(iso_code_to_id)\n",
        "    edge_index = torch.from_numpy(edges[['i_id', 'j_id']].to_numpy(np.compat.long)).t()\n",
        "    edge_attr = torch.from_numpy(edges[EDGE_FEATURES].to_numpy(np.float32)) #extract the features from the dataset.\n",
        "    edge_attr = (edge_attr - edge_attr.mean(axis=0)) / (edge_attr.std(axis=0))\n",
        "    \n",
        "    x_df = pd.read_csv(f'{prefix}/x_country_{year}.csv')\n",
        "    #print(x_df)\n",
        "    features = ['population','exports','imports','inflation','agri','industry','gni','netExport','fdi']\n",
        "\n",
        "    #features = ['population']\n",
        "    #x_df = pd.read_csv(f'{prefix}/output/X_NODE_{year}.csv')\n",
        "    x_df['id'] = x_df['iso_code'].map(iso_code_to_id)\n",
        "    x = torch.from_numpy(x_df.sort_values('id').loc[:,features].to_numpy(np.float32))\n",
        "    x = (x - x.mean(axis=0)) / (x.std(axis=0))  # scale and center data\n",
        "    # load in target values\n",
        "    y_df = pd.read_csv(f'{prefix}/y_country_{year}.csv')\n",
        "    #y_df = pd.read_csv(f'{prefix}/output/Y_{year}.csv')\n",
        "    y_df['id'] = y_df['iso_code'].map(iso_code_to_id)\n",
        "    y = torch.from_numpy(y_df.sort_values('id')['gdp'].to_numpy(np.float32)).unsqueeze(1)# get labels as tensor\n",
        "    y = y.log() # log scale since spread of GDP is large\n",
        "    \n",
        "    return Data(x=x, edge_index=edge_index, edge_attr=edge_attr, y=y)\n",
        "\n",
        "    \n",
        "def evaluate_model(model, data_iter):\n",
        "    '''\n",
        "    Accumulate MSE over a data list or loader.\n",
        "    '''\n",
        "    return sum([F.mse_loss(model(data), data.y).item() for data in data_iter])\n",
        "\n",
        "def get_data():\n",
        "    '''\n",
        "    Generate data_lists for train, val, and test. These lists can be either loaded into data_loaders\n",
        "    or indexed directly.\n",
        "    '''\n",
        "\n",
        "    data_list = [create_data(year) for year in range(FIRST_YEAR, LAST_YEAR)]\n",
        "\n",
        "    random.shuffle(data_list)\n",
        "    data_train = data_list[:NUM_TRAIN]\n",
        "    data_val = data_list[NUM_TRAIN:NUM_TRAIN+NUM_VAL+1]\n",
        "    data_test = data_list[NUM_TRAIN+NUM_VAL:]\n",
        "    return (data_train, data_val, data_test)"
      ]
    },
    {
      "cell_type": "code",
      "execution_count": null,
      "metadata": {
        "colab": {
          "base_uri": "https://localhost:8080/"
        },
        "id": "EKMLI5IAoLnk",
        "outputId": "4bf3fd55-0a25-48ad-a232-9363fc64c027"
      },
      "outputs": [
        {
          "output_type": "stream",
          "name": "stdout",
          "text": [
            "[Data(x=[189, 9], edge_index=[2, 11095], edge_attr=[11095, 10], y=[189, 1]), Data(x=[198, 9], edge_index=[2, 13409], edge_attr=[13409, 10], y=[198, 1]), Data(x=[187, 9], edge_index=[2, 9506], edge_attr=[9506, 10], y=[187, 1]), Data(x=[204, 9], edge_index=[2, 13947], edge_attr=[13947, 10], y=[204, 1]), Data(x=[198, 9], edge_index=[2, 13048], edge_attr=[13048, 10], y=[198, 1]), Data(x=[198, 9], edge_index=[2, 13059], edge_attr=[13059, 10], y=[198, 1]), Data(x=[200, 9], edge_index=[2, 13791], edge_attr=[13791, 10], y=[200, 1]), Data(x=[204, 9], edge_index=[2, 13008], edge_attr=[13008, 10], y=[204, 1]), Data(x=[204, 9], edge_index=[2, 13250], edge_attr=[13250, 10], y=[204, 1]), Data(x=[201, 9], edge_index=[2, 12289], edge_attr=[12289, 10], y=[201, 1]), Data(x=[204, 9], edge_index=[2, 12977], edge_attr=[12977, 10], y=[204, 1]), Data(x=[198, 9], edge_index=[2, 13022], edge_attr=[13022, 10], y=[198, 1]), Data(x=[198, 9], edge_index=[2, 13889], edge_attr=[13889, 10], y=[198, 1]), Data(x=[187, 9], edge_index=[2, 9741], edge_attr=[9741, 10], y=[187, 1]), Data(x=[204, 9], edge_index=[2, 13371], edge_attr=[13371, 10], y=[204, 1]), Data(x=[200, 9], edge_index=[2, 13333], edge_attr=[13333, 10], y=[200, 1])]\n"
          ]
        }
      ],
      "source": [
        "data_train, data_val, data_test = get_data()\n",
        "print(data_train)"
      ]
    },
    {
      "cell_type": "code",
      "execution_count": null,
      "metadata": {
        "colab": {
          "base_uri": "https://localhost:8080/"
        },
        "id": "rJgzY95UG6FJ",
        "outputId": "4f4da20f-8232-4ebf-b757-353788a66549"
      },
      "outputs": [
        {
          "output_type": "stream",
          "name": "stdout",
          "text": [
            "16\n",
            "7\n",
            "4\n",
            "<class 'torch.Tensor'>\n"
          ]
        }
      ],
      "source": [
        "print(len(data_train))\n",
        "print(len(data_test))\n",
        "print(len(data_val))\n",
        "print(type(data_train[0].x[0]))\n",
        "\n"
      ]
    },
    {
      "cell_type": "code",
      "execution_count": null,
      "metadata": {
        "id": "euEXu3qNoL-a"
      },
      "outputs": [],
      "source": [
        "import torch.nn as nn\n",
        "from torch_geometric.nn import GCNConv, GATConv\n",
        "from torch_geometric.loader import DataLoader\n",
        "import random\n",
        "\n",
        "class BaselineGDPModel(torch.nn.Module):\n",
        "    def __init__(self, num_features=9, hidden_size=128, target_size=1):\n",
        "        super().__init__()\n",
        "        self.hidden_size = hidden_size\n",
        "        self.num_features = num_features\n",
        "        self.target_size = target_size\n",
        "        self.convs = [GCNConv(self.num_features, self.hidden_size)]\n",
        "        for l in range(1):\n",
        "            self.convs.append(GCNConv(self.hidden_size, self.hidden_size))\n",
        "        self.linear = nn.Linear(self.hidden_size, 32)\n",
        "        self.linear2 = nn.Linear(32, self.target_size)\n",
        "    def forward(self, data):\n",
        "        x, edge_index = data.x, data.edge_index\n",
        "        for conv in self.convs[:-1]: \n",
        "            x = conv(x, edge_index)\n",
        "            x = F.relu(x)\n",
        "            x = F.dropout(x, training=self.training)\n",
        "        x = self.convs[-1](x, edge_index) \n",
        "        emb = x\n",
        "        x = self.linear(x).relu()\n",
        "        x = self.linear2(x)\n",
        "        return F.relu(x) "
      ]
    },
    {
      "cell_type": "code",
      "execution_count": null,
      "metadata": {
        "id": "LZL7YOz5oMWO"
      },
      "outputs": [],
      "source": [
        "\n",
        "import torch\n",
        "import torch.nn.functional as F\n",
        "from torch_geometric.data import DataLoader\n",
        "from torch_geometric.utils import degree\n",
        "from torch_geometric.nn import MessagePassing\n",
        "\n",
        "class GDPModel(torch.nn.Module):\n",
        "    def __init__(self, num_features=9, hidden_size=32, target_size=1):\n",
        "        super().__init__()\n",
        "        self.hidden_size = hidden_size\n",
        "        self.num_features = num_features\n",
        "        self.target_size = target_size\n",
        "        self.convs = [GATConv(self.num_features, self.hidden_size, edge_dim = NUM_EDGE_FEATURES),\n",
        "                      GATConv(self.hidden_size, self.hidden_size, edge_dim = NUM_EDGE_FEATURES)]\n",
        "        self.linear = nn.Linear(self.hidden_size, 32)\n",
        "        self.linear2 = nn.Linear(32, self.target_size)\n",
        "\n",
        "    def forward(self, data):\n",
        "        x, edge_index, edge_attr = data.x, data.edge_index, data.edge_attr\n",
        "        for conv in self.convs[:-1]:\n",
        "            x = conv(x, edge_index, edge_attr=edge_attr)  #additional edge feature provided\n",
        "            x = F.relu(x)\n",
        "            x = F.dropout(x, training=self.training)\n",
        "        x = self.convs[-1](x, edge_index, edge_attr=edge_attr)\n",
        "        x = self.linear(x).relu()\n",
        "        x = self.linear2(x)\n",
        "\n",
        "        return F.relu(x) \n"
      ]
    },
    {
      "cell_type": "code",
      "execution_count": null,
      "metadata": {
        "id": "XICv9ck3oMtM"
      },
      "outputs": [],
      "source": [
        "hyperparams = {\n",
        "    'batch_size' : 1, \n",
        "    'save_loss_interval' :10, \n",
        "    'print_interval' : 20,\n",
        "    'save_model_interval' : 10,\n",
        "    'n_epochs' : 500,\n",
        "    'learning_rate' : 0.01\n",
        "}"
      ]
    },
    {
      "cell_type": "code",
      "execution_count": null,
      "metadata": {
        "id": "UQTwIFLgF_76"
      },
      "outputs": [],
      "source": [
        "plot_loss_train= []\n",
        "plot_loss_val=[]\n",
        "plot_loss_epoch=[]\n",
        "def train(model, name_prefix, hyperparams):\n",
        "   \n",
        "    learning_rate = hyperparams['learning_rate']\n",
        "    batch_size = hyperparams['batch_size']\n",
        "    n_epochs = hyperparams['n_epochs']\n",
        "    save_loss_interval = hyperparams['save_loss_interval']\n",
        "    print_interval = hyperparams['print_interval']\n",
        "    save_model_interval = hyperparams['save_model_interval']\n",
        "\n",
        "    optimizer = torch.optim.AdamW(model.parameters(), lr=learning_rate, weight_decay = 0.001)\n",
        "    loader = DataLoader(data_train, batch_size=batch_size, shuffle=True)\n",
        "    tst_loader = DataLoader(data_test, batch_size=batch_size, shuffle=True)\n",
        "\n",
        "    losses = []\n",
        "    test_data = data_test[0]\n",
        "    for epoch in range(n_epochs):\n",
        "        epoch_loss = 0\n",
        "        model.train()\n",
        "        for data in loader:\n",
        "            optimizer.zero_grad()\n",
        "            out = model(data)\n",
        "            loss = F.mse_loss(out, data.y)\n",
        "            epoch_loss += loss.item() \n",
        "            loss.backward()\n",
        "            optimizer.step()\n",
        "        if epoch % save_loss_interval == 0:\n",
        "            val_loss = evaluate_model(model, data_val) / NUM_VAL\n",
        "            train_loss = epoch_loss / NUM_TRAIN * batch_size\n",
        "            plot_loss_train.append(train_loss)\n",
        "            plot_loss_val.append(val_loss)\n",
        "            plot_loss_epoch.append(epoch)\n",
        "\n",
        "            test_acc = test(tst_loader, model)\n",
        "            if epoch % print_interval == 0:\n",
        "                print(\"Epoch: {} Train loss: {:.2e} Validation loss: {:.2e} Test accuracy: {:.2f}\".format(epoch, train_loss, val_loss, test_acc))\n",
        "            losses.append((epoch, train_loss, val_loss, test_acc))\n",
        "        if epoch % save_model_interval == 0:\n",
        "            # save predictions for plotting\n",
        "            model.eval()\n",
        "\n",
        "    return losses"
      ]
    },
    {
      "cell_type": "code",
      "execution_count": null,
      "metadata": {
        "colab": {
          "base_uri": "https://localhost:8080/",
          "height": 70
        },
        "id": "WIl8Mpkq3Xo-",
        "outputId": "cbbc5481-90cc-41ba-cc77-c49f40ac88af"
      },
      "outputs": [
        {
          "output_type": "execute_result",
          "data": {
            "text/plain": [
              "'\\ndef test(loader, model, is_validation=False):\\n    model.eval()\\n\\n    correct = 0\\n    for data in loader:\\n        with torch.no_grad():\\n            pred = model(data)\\n            pred = pred.argmax(dim=1)\\n            label = data.y\\n        correct += pred.eq(label).sum().item()\\n    \\n        total = len(loader.dataset) \\n    return correct / total\\n'"
            ],
            "application/vnd.google.colaboratory.intrinsic+json": {
              "type": "string"
            }
          },
          "metadata": {},
          "execution_count": 21
        }
      ],
      "source": [
        "from sklearn.metrics import r2_score\n",
        "import matplotlib.pyplot as plt\n",
        "\n",
        "def test(loader, model):\n",
        "    model.eval()\n",
        "    #print(\"Test is happening\")\n",
        "    y_true, y_pred = [], []\n",
        "    for data in loader:\n",
        "        output = model(data)\n",
        "        y_true.append(data.y.numpy())\n",
        "        y_pred.append(output.detach().cpu().numpy())\n",
        "    y_true = np.concatenate(y_true)\n",
        "    y_pred = np.concatenate(y_pred)\n",
        "    r2 = r2_score(y_true, y_pred)\n",
        "    return r2\n"
      ]
    },
    {
      "cell_type": "code",
      "execution_count": null,
      "metadata": {
        "colab": {
          "base_uri": "https://localhost:8080/"
        },
        "id": "WKdlp2b79bgy",
        "outputId": "2998c16e-61ec-4142-c16d-63fe71aee1a6"
      },
      "outputs": [
        {
          "output_type": "stream",
          "name": "stdout",
          "text": [
            "Training baseline 128, mlp=1...\n"
          ]
        },
        {
          "output_type": "stream",
          "name": "stderr",
          "text": [
            "/usr/local/lib/python3.9/dist-packages/torch_geometric/deprecation.py:12: UserWarning: 'data.DataLoader' is deprecated, use 'loader.DataLoader' instead\n",
            "  warnings.warn(out)\n"
          ]
        },
        {
          "output_type": "stream",
          "name": "stdout",
          "text": [
            "Epoch: 0 Train loss: 4.18e+01 Validation loss: 4.14e+01 Test accuracy: -10.90\n",
            "Epoch: 20 Train loss: 1.55e+00 Validation loss: 1.95e+00 Test accuracy: 0.44\n",
            "Epoch: 40 Train loss: 1.41e+00 Validation loss: 1.84e+00 Test accuracy: 0.46\n",
            "Epoch: 60 Train loss: 1.43e+00 Validation loss: 2.11e+00 Test accuracy: 0.38\n",
            "Epoch: 80 Train loss: 1.42e+00 Validation loss: 1.80e+00 Test accuracy: 0.47\n",
            "Epoch: 100 Train loss: 1.38e+00 Validation loss: 1.73e+00 Test accuracy: 0.50\n",
            "Epoch: 120 Train loss: 1.52e+00 Validation loss: 2.01e+00 Test accuracy: 0.45\n",
            "Epoch: 140 Train loss: 1.82e+00 Validation loss: 2.55e+00 Test accuracy: 0.27\n",
            "Epoch: 160 Train loss: 1.34e+00 Validation loss: 2.03e+00 Test accuracy: 0.40\n",
            "Epoch: 180 Train loss: 1.37e+00 Validation loss: 2.04e+00 Test accuracy: 0.44\n",
            "Epoch: 200 Train loss: 1.38e+00 Validation loss: 1.70e+00 Test accuracy: 0.51\n",
            "Epoch: 220 Train loss: 1.37e+00 Validation loss: 1.72e+00 Test accuracy: 0.51\n",
            "Epoch: 240 Train loss: 1.27e+00 Validation loss: 1.79e+00 Test accuracy: 0.47\n",
            "Epoch: 260 Train loss: 1.40e+00 Validation loss: 2.12e+00 Test accuracy: 0.39\n",
            "Epoch: 280 Train loss: 1.58e+00 Validation loss: 2.54e+00 Test accuracy: 0.26\n",
            "Epoch: 300 Train loss: 1.26e+00 Validation loss: 1.67e+00 Test accuracy: 0.50\n",
            "Epoch: 320 Train loss: 1.36e+00 Validation loss: 1.75e+00 Test accuracy: 0.49\n",
            "Epoch: 340 Train loss: 1.29e+00 Validation loss: 1.71e+00 Test accuracy: 0.51\n",
            "Epoch: 360 Train loss: 1.23e+00 Validation loss: 2.29e+00 Test accuracy: 0.35\n",
            "Epoch: 380 Train loss: 1.25e+00 Validation loss: 1.82e+00 Test accuracy: 0.50\n",
            "Epoch: 400 Train loss: 1.41e+00 Validation loss: 1.76e+00 Test accuracy: 0.49\n",
            "Epoch: 420 Train loss: 1.30e+00 Validation loss: 1.80e+00 Test accuracy: 0.50\n",
            "Epoch: 440 Train loss: 1.31e+00 Validation loss: 2.16e+00 Test accuracy: 0.39\n",
            "Epoch: 460 Train loss: 1.32e+00 Validation loss: 1.67e+00 Test accuracy: 0.52\n",
            "Epoch: 480 Train loss: 1.26e+00 Validation loss: 1.71e+00 Test accuracy: 0.48\n"
          ]
        }
      ],
      "source": [
        "print(\"Training baseline 128, mlp=1...\")\n",
        "baseline = BaselineGDPModel()\n",
        "baseline_loss_traj = train(baseline, \"baseline\", hyperparams)\n"
      ]
    },
    {
      "cell_type": "code",
      "execution_count": null,
      "metadata": {
        "colab": {
          "base_uri": "https://localhost:8080/",
          "height": 283
        },
        "id": "chmvxiUM8OKS",
        "outputId": "83f6d4be-ae9d-44be-fffc-ced02239eeb3"
      },
      "outputs": [
        {
          "data": {
            "text/plain": [
              "<matplotlib.collections.PathCollection at 0x7f27b9d403a0>"
            ]
          },
          "execution_count": 101,
          "metadata": {},
          "output_type": "execute_result"
        },
        {
          "data": {
            "image/png": "[encoded data removed]",
            "text/plain": [
              "<Figure size 432x288 with 1 Axes>"
            ]
          },
          "metadata": {},
          "output_type": "display_data"
        }
      ],
      "source": [
        "#Need to use this function carefully, because it plots the node embeddings\n",
        "'''\n",
        "\n",
        "#color_list = [\"red\", \"orange\", \"green\", \"blue\", \"purple\", \"brown\"]\n",
        "from sklearn.manifold import TSNE\n",
        "import matplotlib.pyplot as plt\n",
        "loader = DataLoader(data_test, batch_size=1, shuffle=True)\n",
        "embs = []\n",
        "colors = []\n",
        "baseline = BaselineGDPModel()\n",
        "for batch in loader:\n",
        "    emb, pred = baseline(batch)\n",
        "    embs.append(emb)\n",
        "    #colors += [color_list[y] for y in batch.y]\n",
        "embs = torch.cat(embs, dim=0)\n",
        "\n",
        "xs, ys = zip(*TSNE().fit_transform(embs.detach().numpy()))\n",
        "plt.scatter(xs, ys)\n",
        "'''\n"
      ]
    },
    {
      "cell_type": "code",
      "execution_count": null,
      "metadata": {
        "id": "2lYQPKoZ2tN1"
      },
      "outputs": [],
      "source": [
        "from torch_geometric.nn import GAE\n",
        "\n",
        "import torch.nn.functional as F\n",
        "from torch_geometric.nn import GCNConv, GAE\n",
        "\n",
        "\n",
        "\n",
        "# Define encoder with two GCNConv layers\n",
        "class GCNEncoder(nn.Module):\n",
        "    def __init__(self, in_channels, hidden_channels, out_channels):\n",
        "        super(GCNEncoder, self).__init__()\n",
        "        self.conv1 = GCNConv(in_channels, hidden_channels)\n",
        "        #self.conv2 = GCNConv(hidden_channels, out_channels)\n",
        "\n",
        "    def forward(self, data):\n",
        "        x, edge_index = data.x, data.edge_index\n",
        "        x = F.relu(self.conv1(x, edge_index))\n",
        "        #x = self.conv2(x, edge_index)\n",
        "        return x\n",
        "\n",
        "# Define decoder with two GCNConv layers\n",
        "class GCNDecoder(nn.Module):\n",
        "    def __init__(self, hidden_channels, out_channels):\n",
        "        super(GCNDecoder, self).__init__()\n",
        "        self.conv1 = GCNConv(hidden_channels, out_channels)\n",
        "        self.conv2 = GCNConv(out_channels, out_channels)\n",
        "\n",
        "    def forward(self, data):\n",
        "        x, edge_index = data.x, data.edge_index\n",
        "        x = F.relu(self.conv1(x, edge_index))\n",
        "        x = self.conv2(x, edge_index)\n",
        "        return x\n",
        "\n",
        "# Define GAE model with two GCNConv layers\n",
        "#\n",
        "class GAE_Model(nn.Module):\n",
        "    def __init__(self, in_channels=9, hidden_channels=128, out_channels=1):\n",
        "        super(GAE_Model, self).__init__()\n",
        "        self.conv = GCNConv(in_channels, hidden_channels)\n",
        "        #self.conv.add_module(\"emod1\",GCNConv(in_channels, hidden_channels))\n",
        "        #self.encoder = GCNConv(in_channels, hidden_channels)\n",
        "        self.decoder = GCNConv(hidden_channels, out_channels)\n",
        "        #self.dropout = nn.Dropout(dropout)\n",
        "        self.gae = GAE(self.conv, self.decoder)\n",
        "\n",
        "    def forward(self, data):\n",
        "        x, edge_index = data.x, data.edge_index\n",
        "        z = self.conv(x, edge_index)\n",
        "        x_hat = self.decoder(z,edge_index)\n",
        "        return x_hat\n"
      ]
    },
    {
      "cell_type": "code",
      "execution_count": null,
      "metadata": {
        "colab": {
          "base_uri": "https://localhost:8080/"
        },
        "id": "fMVcLa0UIhcL",
        "outputId": "0b7bed18-4529-4702-bae5-37626adc3a8c"
      },
      "outputs": [
        {
          "output_type": "stream",
          "name": "stderr",
          "text": [
            "/usr/local/lib/python3.9/dist-packages/torch_geometric/deprecation.py:12: UserWarning: 'data.DataLoader' is deprecated, use 'loader.DataLoader' instead\n",
            "  warnings.warn(out)\n"
          ]
        },
        {
          "output_type": "stream",
          "name": "stdout",
          "text": [
            "Epoch: 0 Train loss: 3.76e+01 Validation loss: 3.41e+01 Test accuracy: -9.83\n",
            "Epoch: 20 Train loss: 1.14e+01 Validation loss: 1.59e+01 Test accuracy: -4.04\n",
            "Epoch: 40 Train loss: 4.90e+00 Validation loss: 7.21e+00 Test accuracy: -1.17\n",
            "Epoch: 60 Train loss: 2.37e+00 Validation loss: 3.44e+00 Test accuracy: -0.02\n",
            "Epoch: 80 Train loss: 1.61e+00 Validation loss: 2.26e+00 Test accuracy: 0.32\n",
            "Epoch: 100 Train loss: 1.45e+00 Validation loss: 1.95e+00 Test accuracy: 0.40\n",
            "Epoch: 120 Train loss: 1.43e+00 Validation loss: 1.87e+00 Test accuracy: 0.42\n",
            "Epoch: 140 Train loss: 1.42e+00 Validation loss: 1.86e+00 Test accuracy: 0.42\n",
            "Epoch: 160 Train loss: 1.41e+00 Validation loss: 1.85e+00 Test accuracy: 0.42\n",
            "Epoch: 180 Train loss: 1.42e+00 Validation loss: 1.88e+00 Test accuracy: 0.41\n",
            "Epoch: 200 Train loss: 1.43e+00 Validation loss: 1.85e+00 Test accuracy: 0.42\n",
            "Epoch: 220 Train loss: 1.42e+00 Validation loss: 1.87e+00 Test accuracy: 0.42\n",
            "Epoch: 240 Train loss: 1.41e+00 Validation loss: 1.84e+00 Test accuracy: 0.42\n",
            "Epoch: 260 Train loss: 1.43e+00 Validation loss: 1.85e+00 Test accuracy: 0.42\n",
            "Epoch: 280 Train loss: 1.44e+00 Validation loss: 1.88e+00 Test accuracy: 0.40\n",
            "Epoch: 300 Train loss: 1.44e+00 Validation loss: 1.86e+00 Test accuracy: 0.42\n",
            "Epoch: 320 Train loss: 1.51e+00 Validation loss: 1.90e+00 Test accuracy: 0.41\n",
            "Epoch: 340 Train loss: 1.41e+00 Validation loss: 1.84e+00 Test accuracy: 0.42\n",
            "Epoch: 360 Train loss: 1.45e+00 Validation loss: 1.87e+00 Test accuracy: 0.41\n",
            "Epoch: 380 Train loss: 1.42e+00 Validation loss: 1.86e+00 Test accuracy: 0.42\n",
            "Epoch: 400 Train loss: 1.45e+00 Validation loss: 1.91e+00 Test accuracy: 0.41\n",
            "Epoch: 420 Train loss: 1.47e+00 Validation loss: 1.90e+00 Test accuracy: 0.41\n",
            "Epoch: 440 Train loss: 1.43e+00 Validation loss: 1.86e+00 Test accuracy: 0.42\n",
            "Epoch: 460 Train loss: 1.42e+00 Validation loss: 1.84e+00 Test accuracy: 0.42\n",
            "Epoch: 480 Train loss: 1.42e+00 Validation loss: 1.84e+00 Test accuracy: 0.42\n"
          ]
        }
      ],
      "source": [
        "gae_model = GAE_Model()\n",
        "gae_model_loss_traj = train(gae_model, \"model\", hyperparams)"
      ]
    },
    {
      "cell_type": "code",
      "execution_count": null,
      "metadata": {
        "colab": {
          "base_uri": "https://localhost:8080/"
        },
        "id": "m4a6biCuGAxO",
        "outputId": "e5ac459b-401f-4354-f43e-caf55b9c6965"
      },
      "outputs": [
        {
          "output_type": "stream",
          "name": "stdout",
          "text": [
            "Training model...for five edge features , MLP\n"
          ]
        },
        {
          "output_type": "stream",
          "name": "stderr",
          "text": [
            "/usr/local/lib/python3.9/dist-packages/torch_geometric/deprecation.py:12: UserWarning: 'data.DataLoader' is deprecated, use 'loader.DataLoader' instead\n",
            "  warnings.warn(out)\n"
          ]
        },
        {
          "output_type": "stream",
          "name": "stdout",
          "text": [
            "Epoch: 0 Train loss: 3.38e+01 Validation loss: 2.07e+01 Test accuracy: -3.27\n",
            "Epoch: 20 Train loss: 1.26e+00 Validation loss: 1.84e+00 Test accuracy: 0.52\n",
            "Epoch: 40 Train loss: 1.39e+00 Validation loss: 1.93e+00 Test accuracy: 0.46\n",
            "Epoch: 60 Train loss: 1.23e+00 Validation loss: 1.68e+00 Test accuracy: 0.55\n",
            "Epoch: 80 Train loss: 1.24e+00 Validation loss: 1.83e+00 Test accuracy: 0.53\n",
            "Epoch: 100 Train loss: 1.10e+00 Validation loss: 1.61e+00 Test accuracy: 0.56\n",
            "Epoch: 120 Train loss: 1.63e+00 Validation loss: 1.69e+00 Test accuracy: 0.54\n",
            "Epoch: 140 Train loss: 1.09e+00 Validation loss: 1.68e+00 Test accuracy: 0.55\n",
            "Epoch: 160 Train loss: 1.31e+00 Validation loss: 2.38e+00 Test accuracy: 0.36\n",
            "Epoch: 180 Train loss: 1.25e+00 Validation loss: 2.24e+00 Test accuracy: 0.44\n",
            "Epoch: 200 Train loss: 1.08e+00 Validation loss: 1.96e+00 Test accuracy: 0.49\n",
            "Epoch: 220 Train loss: 1.12e+00 Validation loss: 1.51e+00 Test accuracy: 0.58\n",
            "Epoch: 240 Train loss: 1.19e+00 Validation loss: 1.48e+00 Test accuracy: 0.59\n",
            "Epoch: 260 Train loss: 1.08e+00 Validation loss: 1.56e+00 Test accuracy: 0.58\n",
            "Epoch: 280 Train loss: 1.03e+00 Validation loss: 1.82e+00 Test accuracy: 0.53\n",
            "Epoch: 300 Train loss: 1.07e+00 Validation loss: 1.45e+00 Test accuracy: 0.60\n",
            "Epoch: 320 Train loss: 1.03e+00 Validation loss: 1.84e+00 Test accuracy: 0.51\n",
            "Epoch: 340 Train loss: 1.28e+00 Validation loss: 2.23e+00 Test accuracy: 0.39\n",
            "Epoch: 360 Train loss: 1.03e+00 Validation loss: 1.71e+00 Test accuracy: 0.53\n",
            "Epoch: 380 Train loss: 1.14e+00 Validation loss: 1.46e+00 Test accuracy: 0.58\n",
            "Epoch: 400 Train loss: 1.01e+00 Validation loss: 1.56e+00 Test accuracy: 0.57\n",
            "Epoch: 420 Train loss: 1.02e+00 Validation loss: 1.57e+00 Test accuracy: 0.57\n",
            "Epoch: 440 Train loss: 1.00e+00 Validation loss: 1.66e+00 Test accuracy: 0.57\n",
            "Epoch: 460 Train loss: 1.05e+00 Validation loss: 1.67e+00 Test accuracy: 0.54\n",
            "Epoch: 480 Train loss: 1.02e+00 Validation loss: 1.51e+00 Test accuracy: 0.60\n"
          ]
        }
      ],
      "source": [
        "print(\"Training model...for five edge features 32 neurons, MLP\")\n",
        "model = GDPModel() # needs to be double precision\n",
        "model_loss_traj_five = train(model, \"model\", hyperparams)"
      ]
    },
    {
      "cell_type": "code",
      "source": [],
      "metadata": {
        "id": "9O2Xu4jO8Jd-"
      },
      "execution_count": null,
      "outputs": []
    },
    {
      "cell_type": "code",
      "source": [
        "print(\"Training model with 10 features and increasing number of hidden layer neurons to 128, mlp=1...\")\n",
        "model = GDPModel() # needs to be double precision\n",
        "model_loss_traj_ten = train(model, \"model\", hyperparams)"
      ],
      "metadata": {
        "colab": {
          "base_uri": "https://localhost:8080/"
        },
        "id": "PydJ9gtgz6Zi",
        "outputId": "bd843aad-de06-45dc-b552-5d50af2161e9"
      },
      "execution_count": null,
      "outputs": [
        {
          "output_type": "stream",
          "name": "stdout",
          "text": [
            "Training model with 10 features and increasing number of hidden layer neurons to 128, mlp=1...\n"
          ]
        },
        {
          "output_type": "stream",
          "name": "stderr",
          "text": [
            "/usr/local/lib/python3.9/dist-packages/torch_geometric/deprecation.py:12: UserWarning: 'data.DataLoader' is deprecated, use 'loader.DataLoader' instead\n",
            "  warnings.warn(out)\n"
          ]
        },
        {
          "output_type": "stream",
          "name": "stdout",
          "text": [
            "Epoch: 0 Train loss: 4.67e+01 Validation loss: 2.99e+01 Test accuracy: -7.47\n",
            "Epoch: 20 Train loss: 1.45e+00 Validation loss: 1.89e+00 Test accuracy: 0.48\n",
            "Epoch: 40 Train loss: 1.35e+00 Validation loss: 1.74e+00 Test accuracy: 0.49\n",
            "Epoch: 60 Train loss: 1.25e+00 Validation loss: 1.57e+00 Test accuracy: 0.52\n",
            "Epoch: 80 Train loss: 1.62e+00 Validation loss: 1.60e+00 Test accuracy: 0.53\n",
            "Epoch: 100 Train loss: 1.36e+00 Validation loss: 1.57e+00 Test accuracy: 0.50\n",
            "Epoch: 120 Train loss: 1.37e+00 Validation loss: 1.51e+00 Test accuracy: 0.54\n",
            "Epoch: 140 Train loss: 1.25e+00 Validation loss: 1.91e+00 Test accuracy: 0.46\n",
            "Epoch: 160 Train loss: 1.36e+00 Validation loss: 1.60e+00 Test accuracy: 0.53\n",
            "Epoch: 180 Train loss: 1.26e+00 Validation loss: 1.49e+00 Test accuracy: 0.54\n",
            "Epoch: 200 Train loss: 1.27e+00 Validation loss: 1.59e+00 Test accuracy: 0.54\n",
            "Epoch: 220 Train loss: 1.32e+00 Validation loss: 1.71e+00 Test accuracy: 0.50\n",
            "Epoch: 240 Train loss: 1.31e+00 Validation loss: 1.48e+00 Test accuracy: 0.55\n",
            "Epoch: 260 Train loss: 1.30e+00 Validation loss: 1.83e+00 Test accuracy: 0.49\n",
            "Epoch: 280 Train loss: 1.28e+00 Validation loss: 1.91e+00 Test accuracy: 0.46\n",
            "Epoch: 300 Train loss: 1.36e+00 Validation loss: 2.59e+00 Test accuracy: 0.28\n",
            "Epoch: 320 Train loss: 1.35e+00 Validation loss: 1.50e+00 Test accuracy: 0.55\n",
            "Epoch: 340 Train loss: 1.28e+00 Validation loss: 1.55e+00 Test accuracy: 0.51\n",
            "Epoch: 360 Train loss: 1.18e+00 Validation loss: 1.49e+00 Test accuracy: 0.56\n",
            "Epoch: 380 Train loss: 1.17e+00 Validation loss: 1.49e+00 Test accuracy: 0.50\n",
            "Epoch: 400 Train loss: 1.22e+00 Validation loss: 1.43e+00 Test accuracy: 0.58\n",
            "Epoch: 420 Train loss: 1.14e+00 Validation loss: 1.43e+00 Test accuracy: 0.58\n",
            "Epoch: 440 Train loss: 1.16e+00 Validation loss: 1.42e+00 Test accuracy: 0.58\n",
            "Epoch: 460 Train loss: 1.14e+00 Validation loss: 1.39e+00 Test accuracy: 0.59\n",
            "Epoch: 480 Train loss: 1.13e+00 Validation loss: 1.42e+00 Test accuracy: 0.58\n"
          ]
        }
      ]
    },
    {
      "cell_type": "code",
      "source": [
        "print(\"Training model with 10 features and increasing number of hidden layer neurons to 128, mlp=1...\")\n",
        "model_pred_1 = GDPModel() # needs to be double precision\n",
        "model_pred_epoch100 = train(model_pred_1, \"model\", hyperparams)"
      ],
      "metadata": {
        "colab": {
          "base_uri": "https://localhost:8080/"
        },
        "id": "ONYrXv_0vrE_",
        "outputId": "d615d01c-7829-45f3-bb90-0539a9675763"
      },
      "execution_count": null,
      "outputs": [
        {
          "output_type": "stream",
          "name": "stdout",
          "text": [
            "Training model with 10 features and increasing number of hidden layer neurons to 128, mlp=1...\n"
          ]
        },
        {
          "output_type": "stream",
          "name": "stderr",
          "text": [
            "/usr/local/lib/python3.9/dist-packages/torch_geometric/deprecation.py:12: UserWarning: 'data.DataLoader' is deprecated, use 'loader.DataLoader' instead\n",
            "  warnings.warn(out)\n"
          ]
        },
        {
          "output_type": "stream",
          "name": "stdout",
          "text": [
            "Epoch: 0 Train loss: 3.93e+01 Validation loss: 2.11e+01 Test accuracy: -5.72\n",
            "Epoch: 1 Train loss: 1.66e+01 Validation loss: 1.65e+01 Test accuracy: -3.36\n",
            "Epoch: 2 Train loss: 1.04e+01 Validation loss: 1.26e+01 Test accuracy: -1.98\n",
            "Epoch: 3 Train loss: 8.19e+00 Validation loss: 1.18e+01 Test accuracy: -1.68\n",
            "Epoch: 4 Train loss: 7.26e+00 Validation loss: 9.50e+00 Test accuracy: -1.11\n",
            "Epoch: 5 Train loss: 6.23e+00 Validation loss: 7.59e+00 Test accuracy: -0.79\n",
            "Epoch: 6 Train loss: 5.47e+00 Validation loss: 7.72e+00 Test accuracy: -0.71\n",
            "Epoch: 7 Train loss: 4.76e+00 Validation loss: 5.62e+00 Test accuracy: -0.27\n",
            "Epoch: 8 Train loss: 3.80e+00 Validation loss: 5.11e+00 Test accuracy: -0.05\n",
            "Epoch: 9 Train loss: 2.89e+00 Validation loss: 3.62e+00 Test accuracy: 0.10\n",
            "Epoch: 10 Train loss: 2.58e+00 Validation loss: 3.14e+00 Test accuracy: 0.25\n",
            "Epoch: 11 Train loss: 2.20e+00 Validation loss: 2.74e+00 Test accuracy: 0.34\n",
            "Epoch: 12 Train loss: 1.90e+00 Validation loss: 2.40e+00 Test accuracy: 0.37\n",
            "Epoch: 13 Train loss: 1.78e+00 Validation loss: 2.64e+00 Test accuracy: 0.30\n",
            "Epoch: 14 Train loss: 1.61e+00 Validation loss: 1.92e+00 Test accuracy: 0.45\n",
            "Epoch: 15 Train loss: 1.55e+00 Validation loss: 2.01e+00 Test accuracy: 0.46\n",
            "Epoch: 16 Train loss: 1.43e+00 Validation loss: 1.68e+00 Test accuracy: 0.46\n",
            "Epoch: 17 Train loss: 1.51e+00 Validation loss: 1.72e+00 Test accuracy: 0.48\n",
            "Epoch: 18 Train loss: 1.47e+00 Validation loss: 2.12e+00 Test accuracy: 0.44\n",
            "Epoch: 19 Train loss: 1.45e+00 Validation loss: 1.78e+00 Test accuracy: 0.49\n",
            "Epoch: 20 Train loss: 1.50e+00 Validation loss: 2.07e+00 Test accuracy: 0.37\n",
            "Epoch: 21 Train loss: 1.79e+00 Validation loss: 1.77e+00 Test accuracy: 0.41\n",
            "Epoch: 22 Train loss: 1.48e+00 Validation loss: 2.04e+00 Test accuracy: 0.43\n",
            "Epoch: 23 Train loss: 1.45e+00 Validation loss: 2.05e+00 Test accuracy: 0.44\n",
            "Epoch: 24 Train loss: 1.44e+00 Validation loss: 1.64e+00 Test accuracy: 0.51\n",
            "Epoch: 25 Train loss: 1.44e+00 Validation loss: 1.79e+00 Test accuracy: 0.49\n",
            "Epoch: 26 Train loss: 1.49e+00 Validation loss: 1.68e+00 Test accuracy: 0.51\n",
            "Epoch: 27 Train loss: 1.39e+00 Validation loss: 1.95e+00 Test accuracy: 0.45\n",
            "Epoch: 28 Train loss: 1.39e+00 Validation loss: 2.18e+00 Test accuracy: 0.39\n",
            "Epoch: 29 Train loss: 1.44e+00 Validation loss: 1.93e+00 Test accuracy: 0.45\n",
            "Epoch: 30 Train loss: 1.40e+00 Validation loss: 1.67e+00 Test accuracy: 0.50\n",
            "Epoch: 31 Train loss: 1.41e+00 Validation loss: 2.73e+00 Test accuracy: 0.25\n",
            "Epoch: 32 Train loss: 1.38e+00 Validation loss: 1.68e+00 Test accuracy: 0.46\n",
            "Epoch: 33 Train loss: 1.72e+00 Validation loss: 2.07e+00 Test accuracy: 0.43\n",
            "Epoch: 34 Train loss: 1.69e+00 Validation loss: 1.73e+00 Test accuracy: 0.50\n",
            "Epoch: 35 Train loss: 1.74e+00 Validation loss: 1.71e+00 Test accuracy: 0.50\n",
            "Epoch: 36 Train loss: 1.58e+00 Validation loss: 2.54e+00 Test accuracy: 0.30\n",
            "Epoch: 37 Train loss: 1.77e+00 Validation loss: 1.70e+00 Test accuracy: 0.50\n",
            "Epoch: 38 Train loss: 1.58e+00 Validation loss: 2.08e+00 Test accuracy: 0.43\n",
            "Epoch: 39 Train loss: 1.40e+00 Validation loss: 1.60e+00 Test accuracy: 0.51\n",
            "Epoch: 40 Train loss: 1.34e+00 Validation loss: 1.65e+00 Test accuracy: 0.52\n",
            "Epoch: 41 Train loss: 1.34e+00 Validation loss: 1.60e+00 Test accuracy: 0.52\n",
            "Epoch: 42 Train loss: 1.40e+00 Validation loss: 1.76e+00 Test accuracy: 0.50\n",
            "Epoch: 43 Train loss: 1.46e+00 Validation loss: 1.61e+00 Test accuracy: 0.51\n",
            "Epoch: 44 Train loss: 1.35e+00 Validation loss: 1.80e+00 Test accuracy: 0.49\n",
            "Epoch: 45 Train loss: 1.30e+00 Validation loss: 2.52e+00 Test accuracy: 0.33\n",
            "Epoch: 46 Train loss: 1.47e+00 Validation loss: 1.61e+00 Test accuracy: 0.50\n",
            "Epoch: 47 Train loss: 1.44e+00 Validation loss: 1.73e+00 Test accuracy: 0.44\n",
            "Epoch: 48 Train loss: 1.72e+00 Validation loss: 2.61e+00 Test accuracy: 0.14\n",
            "Epoch: 49 Train loss: 1.52e+00 Validation loss: 1.68e+00 Test accuracy: 0.51\n",
            "Epoch: 50 Train loss: 1.43e+00 Validation loss: 1.70e+00 Test accuracy: 0.51\n",
            "Epoch: 51 Train loss: 1.35e+00 Validation loss: 1.62e+00 Test accuracy: 0.50\n",
            "Epoch: 52 Train loss: 1.54e+00 Validation loss: 2.47e+00 Test accuracy: 0.33\n",
            "Epoch: 53 Train loss: 1.49e+00 Validation loss: 1.63e+00 Test accuracy: 0.52\n",
            "Epoch: 54 Train loss: 1.41e+00 Validation loss: 1.60e+00 Test accuracy: 0.51\n",
            "Epoch: 55 Train loss: 1.36e+00 Validation loss: 1.90e+00 Test accuracy: 0.46\n",
            "Epoch: 56 Train loss: 1.38e+00 Validation loss: 1.55e+00 Test accuracy: 0.49\n",
            "Epoch: 57 Train loss: 1.45e+00 Validation loss: 1.51e+00 Test accuracy: 0.51\n",
            "Epoch: 58 Train loss: 1.44e+00 Validation loss: 1.95e+00 Test accuracy: 0.46\n",
            "Epoch: 59 Train loss: 1.57e+00 Validation loss: 2.35e+00 Test accuracy: 0.34\n",
            "Epoch: 60 Train loss: 1.54e+00 Validation loss: 2.05e+00 Test accuracy: 0.42\n",
            "Epoch: 61 Train loss: 1.40e+00 Validation loss: 1.72e+00 Test accuracy: 0.51\n",
            "Epoch: 62 Train loss: 1.33e+00 Validation loss: 1.99e+00 Test accuracy: 0.44\n",
            "Epoch: 63 Train loss: 1.40e+00 Validation loss: 1.92e+00 Test accuracy: 0.45\n",
            "Epoch: 64 Train loss: 1.48e+00 Validation loss: 1.92e+00 Test accuracy: 0.43\n",
            "Epoch: 65 Train loss: 1.57e+00 Validation loss: 1.66e+00 Test accuracy: 0.51\n",
            "Epoch: 66 Train loss: 1.59e+00 Validation loss: 1.67e+00 Test accuracy: 0.52\n",
            "Epoch: 67 Train loss: 1.35e+00 Validation loss: 1.65e+00 Test accuracy: 0.52\n",
            "Epoch: 68 Train loss: 1.38e+00 Validation loss: 1.64e+00 Test accuracy: 0.51\n",
            "Epoch: 69 Train loss: 1.43e+00 Validation loss: 1.74e+00 Test accuracy: 0.44\n",
            "Epoch: 70 Train loss: 1.53e+00 Validation loss: 1.62e+00 Test accuracy: 0.50\n",
            "Epoch: 71 Train loss: 1.60e+00 Validation loss: 1.79e+00 Test accuracy: 0.50\n",
            "Epoch: 72 Train loss: 1.51e+00 Validation loss: 1.62e+00 Test accuracy: 0.51\n",
            "Epoch: 73 Train loss: 1.32e+00 Validation loss: 1.62e+00 Test accuracy: 0.50\n",
            "Epoch: 74 Train loss: 1.40e+00 Validation loss: 1.76e+00 Test accuracy: 0.45\n",
            "Epoch: 75 Train loss: 1.42e+00 Validation loss: 1.64e+00 Test accuracy: 0.51\n",
            "Epoch: 76 Train loss: 1.41e+00 Validation loss: 2.30e+00 Test accuracy: 0.38\n",
            "Epoch: 77 Train loss: 1.41e+00 Validation loss: 2.28e+00 Test accuracy: 0.36\n",
            "Epoch: 78 Train loss: 1.53e+00 Validation loss: 1.94e+00 Test accuracy: 0.43\n",
            "Epoch: 79 Train loss: 1.42e+00 Validation loss: 1.84e+00 Test accuracy: 0.39\n",
            "Epoch: 80 Train loss: 1.69e+00 Validation loss: 1.57e+00 Test accuracy: 0.46\n",
            "Epoch: 81 Train loss: 1.35e+00 Validation loss: 1.67e+00 Test accuracy: 0.51\n",
            "Epoch: 82 Train loss: 1.34e+00 Validation loss: 1.68e+00 Test accuracy: 0.51\n",
            "Epoch: 83 Train loss: 1.43e+00 Validation loss: 1.96e+00 Test accuracy: 0.43\n",
            "Epoch: 84 Train loss: 1.29e+00 Validation loss: 1.52e+00 Test accuracy: 0.51\n",
            "Epoch: 85 Train loss: 1.40e+00 Validation loss: 1.67e+00 Test accuracy: 0.47\n",
            "Epoch: 86 Train loss: 1.35e+00 Validation loss: 1.59e+00 Test accuracy: 0.52\n",
            "Epoch: 87 Train loss: 1.43e+00 Validation loss: 1.75e+00 Test accuracy: 0.48\n",
            "Epoch: 88 Train loss: 1.35e+00 Validation loss: 1.82e+00 Test accuracy: 0.48\n",
            "Epoch: 89 Train loss: 1.37e+00 Validation loss: 1.61e+00 Test accuracy: 0.52\n",
            "Epoch: 90 Train loss: 1.34e+00 Validation loss: 1.73e+00 Test accuracy: 0.51\n",
            "Epoch: 91 Train loss: 1.33e+00 Validation loss: 1.54e+00 Test accuracy: 0.49\n",
            "Epoch: 92 Train loss: 1.43e+00 Validation loss: 1.62e+00 Test accuracy: 0.48\n",
            "Epoch: 93 Train loss: 1.55e+00 Validation loss: 1.82e+00 Test accuracy: 0.40\n",
            "Epoch: 94 Train loss: 1.69e+00 Validation loss: 1.87e+00 Test accuracy: 0.46\n",
            "Epoch: 95 Train loss: 1.45e+00 Validation loss: 1.66e+00 Test accuracy: 0.52\n",
            "Epoch: 96 Train loss: 1.36e+00 Validation loss: 1.69e+00 Test accuracy: 0.49\n",
            "Epoch: 97 Train loss: 1.49e+00 Validation loss: 1.62e+00 Test accuracy: 0.51\n",
            "Epoch: 98 Train loss: 1.47e+00 Validation loss: 1.69e+00 Test accuracy: 0.46\n",
            "Epoch: 99 Train loss: 1.41e+00 Validation loss: 1.66e+00 Test accuracy: 0.46\n"
          ]
        }
      ]
    },
    {
      "cell_type": "code",
      "source": [
        "print(\"Training model with 15 features number of neurons to 128\")\n",
        "model = GDPModel() # needs to be double precision\n",
        "model_loss_traj_fifteen = train(model, \"model\", hyperparams)"
      ],
      "metadata": {
        "colab": {
          "base_uri": "https://localhost:8080/"
        },
        "id": "AClvfCZe-of5",
        "outputId": "381a6ad7-b7dd-44f1-f1ad-002843b5d569"
      },
      "execution_count": null,
      "outputs": [
        {
          "output_type": "stream",
          "name": "stdout",
          "text": [
            "Training model with 15 features number of neurons to 128\n"
          ]
        },
        {
          "output_type": "stream",
          "name": "stderr",
          "text": [
            "/usr/local/lib/python3.9/dist-packages/torch_geometric/deprecation.py:12: UserWarning: 'data.DataLoader' is deprecated, use 'loader.DataLoader' instead\n",
            "  warnings.warn(out)\n"
          ]
        },
        {
          "output_type": "stream",
          "name": "stdout",
          "text": [
            "Epoch: 0 Train loss: 5.75e+01 Validation loss: 6.50e+01 Test accuracy: -17.54\n",
            "Epoch: 20 Train loss: 7.96e+00 Validation loss: 1.20e+01 Test accuracy: -1.77\n",
            "Epoch: 40 Train loss: 5.49e+00 Validation loss: 7.62e+00 Test accuracy: -0.69\n",
            "Epoch: 60 Train loss: 3.93e+00 Validation loss: 5.76e+00 Test accuracy: -0.19\n",
            "Epoch: 80 Train loss: 2.81e+00 Validation loss: 4.34e+00 Test accuracy: 0.11\n",
            "Epoch: 100 Train loss: 2.17e+00 Validation loss: 3.30e+00 Test accuracy: 0.30\n",
            "Epoch: 120 Train loss: 1.78e+00 Validation loss: 2.34e+00 Test accuracy: 0.38\n",
            "Epoch: 140 Train loss: 1.53e+00 Validation loss: 2.20e+00 Test accuracy: 0.45\n",
            "Epoch: 160 Train loss: 1.43e+00 Validation loss: 2.00e+00 Test accuracy: 0.49\n",
            "Epoch: 180 Train loss: 1.36e+00 Validation loss: 1.97e+00 Test accuracy: 0.50\n",
            "Epoch: 200 Train loss: 1.32e+00 Validation loss: 1.85e+00 Test accuracy: 0.52\n",
            "Epoch: 220 Train loss: 1.31e+00 Validation loss: 1.70e+00 Test accuracy: 0.52\n",
            "Epoch: 240 Train loss: 1.28e+00 Validation loss: 1.72e+00 Test accuracy: 0.53\n",
            "Epoch: 260 Train loss: 1.28e+00 Validation loss: 1.74e+00 Test accuracy: 0.52\n",
            "Epoch: 280 Train loss: 1.27e+00 Validation loss: 1.83e+00 Test accuracy: 0.53\n",
            "Epoch: 300 Train loss: 1.26e+00 Validation loss: 1.77e+00 Test accuracy: 0.53\n",
            "Epoch: 320 Train loss: 1.27e+00 Validation loss: 1.81e+00 Test accuracy: 0.53\n",
            "Epoch: 340 Train loss: 1.24e+00 Validation loss: 1.77e+00 Test accuracy: 0.53\n"
          ]
        }
      ]
    },
    {
      "cell_type": "code",
      "source": [
        "print(\"Training model with 20 features number of neurons to 256, mlp=2\")\n",
        "model = GDPModel() # needs to be double precision\n",
        "model_loss_traj_twentyH2 = train(model, \"model\", hyperparams)"
      ],
      "metadata": {
        "colab": {
          "base_uri": "https://localhost:8080/"
        },
        "id": "xKwhuku9Im4H",
        "outputId": "eddade5c-85da-4372-f1ee-f2c34057e935"
      },
      "execution_count": null,
      "outputs": [
        {
          "output_type": "stream",
          "name": "stdout",
          "text": [
            "Training model with 20 features number of neurons to 256, mlp=2\n"
          ]
        },
        {
          "output_type": "stream",
          "name": "stderr",
          "text": [
            "/usr/local/lib/python3.9/dist-packages/torch_geometric/deprecation.py:12: UserWarning: 'data.DataLoader' is deprecated, use 'loader.DataLoader' instead\n",
            "  warnings.warn(out)\n"
          ]
        },
        {
          "output_type": "stream",
          "name": "stdout",
          "text": [
            "Epoch: 0 Train loss: 2.90e+01 Validation loss: 1.91e+01 Test accuracy: -5.15\n",
            "Epoch: 20 Train loss: 1.37e+00 Validation loss: 1.90e+00 Test accuracy: 0.50\n",
            "Epoch: 40 Train loss: 1.40e+00 Validation loss: 1.86e+00 Test accuracy: 0.43\n",
            "Epoch: 60 Train loss: 1.30e+00 Validation loss: 1.63e+00 Test accuracy: 0.36\n",
            "Epoch: 80 Train loss: 1.41e+00 Validation loss: 1.65e+00 Test accuracy: 0.43\n",
            "Epoch: 100 Train loss: 1.16e+00 Validation loss: 1.49e+00 Test accuracy: 0.55\n",
            "Epoch: 120 Train loss: 1.40e+00 Validation loss: 2.01e+00 Test accuracy: 0.47\n",
            "Epoch: 140 Train loss: 1.33e+00 Validation loss: 2.22e+00 Test accuracy: 0.02\n",
            "Epoch: 160 Train loss: 1.12e+00 Validation loss: 1.34e+00 Test accuracy: 0.50\n",
            "Epoch: 180 Train loss: 1.29e+00 Validation loss: 1.51e+00 Test accuracy: 0.48\n",
            "Epoch: 200 Train loss: 1.32e+00 Validation loss: 1.40e+00 Test accuracy: 0.43\n",
            "Epoch: 220 Train loss: 1.14e+00 Validation loss: 1.46e+00 Test accuracy: 0.40\n",
            "Epoch: 240 Train loss: 1.20e+00 Validation loss: 1.31e+00 Test accuracy: 0.55\n",
            "Epoch: 260 Train loss: 1.20e+00 Validation loss: 1.71e+00 Test accuracy: 0.52\n",
            "Epoch: 280 Train loss: 1.09e+00 Validation loss: 1.34e+00 Test accuracy: 0.48\n",
            "Epoch: 300 Train loss: 9.97e-01 Validation loss: 1.29e+00 Test accuracy: 0.50\n",
            "Epoch: 320 Train loss: 1.04e+00 Validation loss: 1.23e+00 Test accuracy: 0.55\n",
            "Epoch: 340 Train loss: 1.01e+00 Validation loss: 1.26e+00 Test accuracy: 0.58\n"
          ]
        }
      ]
    },
    {
      "cell_type": "code",
      "execution_count": null,
      "metadata": {
        "id": "zikf9aD2GBEk"
      },
      "outputs": [],
      "source": [
        "import seaborn as sns\n",
        "import matplotlib.pyplot as plt\n",
        "sns.set_theme()\n",
        "\n",
        "def comparison_plot(baseline_loss_traj, model_loss_traj, gae_model_loss_traj):\n",
        "    plt.yscale('log') \n",
        "    _, _, baseline_val,base_acc = tuple(zip(*baseline_loss_traj))\n",
        "    epoch, _, model_val,model_acc = tuple(zip(*model_loss_traj))\n",
        "    _, _, gae_model_val,gae_acc = tuple(zip(*gae_model_loss_traj))\n",
        "    plt.plot(epoch, baseline_val, '-r', label='GAT Model (5 edge features)')\n",
        "    plt.plot(epoch, model_val, '-b', label='GAT Model (10 edge features)')\n",
        "    plt.plot(epoch, gae_model_val, '-g', label='GAE Model ')\n",
        "    plt.legend(loc='upper right', title='ANN Models:')\n",
        "    plt.yscale('log')\n",
        "    plt.ylabel('MSE (in log scale)')\n",
        "    plt.xlabel('number of epochs')\n",
        "    plt.title(f'Comparing Loss trajectory of GNN models for 128 hidden neurons')\n",
        "    plt.show()\n",
        "    plt.clf()"
      ]
    },
    {
      "cell_type": "code",
      "source": [
        "comparison_plot(model_loss_traj_five, model_loss_traj_ten, gae_model_loss_traj)\n"
      ],
      "metadata": {
        "colab": {
          "base_uri": "https://localhost:8080/",
          "height": 318
        },
        "id": "dZZ575AZ6Xtf",
        "outputId": "95bb0b58-51f7-4d35-84c4-6aba38c4ac6a"
      },
      "execution_count": null,
      "outputs": [
        {
          "output_type": "display_data",
          "data": {
            "text/plain": [
              "<Figure size 432x288 with 1 Axes>"
            ],
            "image/png": "[encoded data removed]"
          },
          "metadata": {}
        },
        {
          "output_type": "display_data",
          "data": {
            "text/plain": [
              "<Figure size 432x288 with 0 Axes>"
            ]
          },
          "metadata": {}
        }
      ]
    },
    {
      "cell_type": "code",
      "source": [
        "import seaborn as sns\n",
        "import matplotlib.pyplot as plt\n",
        "sns.set_theme()\n",
        "\n",
        "def comparison_plot_test(baseline_loss_traj, model_loss_traj, gae_model_loss_traj):\n",
        "    plt.yscale('log') \n",
        "    _, _, baseline_val,base_acc = tuple(zip(*baseline_loss_traj))\n",
        "    epoch, _, model_val,model_acc = tuple(zip(*model_loss_traj))\n",
        "    _, _, gae_model_val,gae_acc = tuple(zip(*gae_model_loss_traj))\n",
        "    plt.plot(epoch, base_acc, '-r', label='GCN Model (Baseline)')\n",
        "    plt.plot(epoch, model_acc, '-b', label='GAT Model (10 edge features)')\n",
        "    plt.plot(epoch, gae_acc, '-g', label='GAE Model')\n",
        "    plt.legend(loc='lower right', title='ANN Models:')\n",
        "    plt.yscale('log')\n",
        "    plt.ylabel('Accuracy')\n",
        "    plt.xlabel('number of epochs')\n",
        "    plt.title(f'Comparing Test accuracy of different models')\n",
        "    plt.show()\n",
        "    plt.clf()"
      ],
      "metadata": {
        "id": "Rw4L1TaA6HCq"
      },
      "execution_count": null,
      "outputs": []
    },
    {
      "cell_type": "code",
      "execution_count": null,
      "metadata": {
        "colab": {
          "base_uri": "https://localhost:8080/",
          "height": 318
        },
        "id": "_5CTmbGQGBYw",
        "outputId": "745aa10b-1d56-46c4-a27c-a6f6c0735dc1"
      },
      "outputs": [
        {
          "output_type": "display_data",
          "data": {
            "text/plain": [
              "<Figure size 432x288 with 1 Axes>"
            ],
            "image/png": "[encoded data removed]"
          },
          "metadata": {}
        },
        {
          "output_type": "display_data",
          "data": {
            "text/plain": [
              "<Figure size 432x288 with 0 Axes>"
            ]
          },
          "metadata": {}
        }
      ],
      "source": [
        "comparison_plot_test(model_loss_traj_five, model_loss_traj_ten, gae_model_loss_traj)\n"
      ]
    },
    {
      "cell_type": "code",
      "execution_count": null,
      "metadata": {
        "colab": {
          "base_uri": "https://localhost:8080/",
          "height": 301
        },
        "id": "7LB-v3QPGgaQ",
        "outputId": "8a552fc4-a911-4cfd-dade-f89a55f759b0"
      },
      "outputs": [
        {
          "output_type": "display_data",
          "data": {
            "text/plain": [
              "<Figure size 432x288 with 1 Axes>"
            ],
            "image/png": "[encoded data removed]"
          },
          "metadata": {}
        }
      ],
      "source": [
        "model_out =[]\n",
        "preds = []\n",
        "for data in data_test:\n",
        "  model_out += list(data.y.detach().numpy().squeeze())\n",
        "  preds += list(model_pred_1(data).detach().numpy().squeeze())\n",
        "max_x = max(model_out)\n",
        "max_x *= 1.15\n",
        "plt.scatter(model_out, preds, s=.7, zorder=2)\n",
        "l, r = plt.xlim()\n",
        "plt.plot([l, r], [l, r], c='r', zorder=1)\n",
        "plt.xlabel(\"Actual GDP (log value)\")\n",
        "plt.ylabel(\"Predicted GDP (log value)\")\n",
        "plt.title(\"Prediction vs Actual for GATConv Model with edge features after 100 epochs\")\n",
        "plt.show()"
      ]
    }
  ],
  "metadata": {
    "colab": {
      "provenance": []
    },
    "kernelspec": {
      "display_name": "Python 3",
      "name": "python3"
    },
    "language_info": {
      "name": "python"
    }
  },
  "nbformat": 4,
  "nbformat_minor": 0
}